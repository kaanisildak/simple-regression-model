{
 "cells": [
  {
   "cell_type": "code",
   "execution_count": 1,
   "metadata": {},
   "outputs": [],
   "source": [
    "import pandas as pd\n",
    "import numpy as np\n",
    "import math"
   ]
  },
  {
   "cell_type": "code",
   "execution_count": 108,
   "metadata": {},
   "outputs": [],
   "source": [
    "df=pd.read_csv(\"desktop/GarantiBBVA/train.csv\")\n",
    "df.dropna(how='any')\n",
    "df = df[df.ADDCONTAMNT != 0]\n",
    "y=df['ADDCONTAMNT']\n",
    "y=y.head(16978)\n",
    "df=df[['DISTNUM12','CONTMONTHAMNT','CONTCOLLAMNT','CONTDEBTNUM','DEBTAVG00','TIMEDEPAVG12','RTRNDESVAMNT'\n",
    "      ,'ACCMVMTAVG']]\n",
    "df=df.head(16978)\n",
    "df=df.fillna(0)\n"
   ]
  },
  {
   "cell_type": "code",
   "execution_count": 109,
   "metadata": {},
   "outputs": [
    {
     "data": {
      "text/plain": [
       "LinearRegression()"
      ]
     },
     "execution_count": 109,
     "metadata": {},
     "output_type": "execute_result"
    }
   ],
   "source": [
    "from sklearn import linear_model\n",
    "\n",
    "regr = linear_model.LinearRegression()\n",
    "regr.fit(df, y)"
   ]
  },
  {
   "cell_type": "code",
   "execution_count": 110,
   "metadata": {},
   "outputs": [],
   "source": [
    "test_x=pd.read_csv(\"desktop/GarantiBBVA/test_input.csv\")\n",
    "test_x=test_x[['DISTNUM12','CONTMONTHAMNT','CONTCOLLAMNT','CONTDEBTNUM','DEBTAVG00','TIMEDEPAVG12','RTRNDESVAMNT'\n",
    "               ,'ACCMVMTAVG']]\n",
    "test_x.dropna(how='any')\n",
    "test_x=test_x.fillna(0)\n"
   ]
  },
  {
   "cell_type": "code",
   "execution_count": 111,
   "metadata": {},
   "outputs": [],
   "source": [
    "y_pred = regr.predict(test_x)\n"
   ]
  },
  {
   "cell_type": "code",
   "execution_count": 112,
   "metadata": {},
   "outputs": [
    {
     "data": {
      "text/plain": [
       "24514.3995527845"
      ]
     },
     "execution_count": 112,
     "metadata": {},
     "output_type": "execute_result"
    }
   ],
   "source": [
    "from sklearn.metrics import mean_squared_error\n",
    "x=mean_squared_error(y,y_pred)\n",
    "rmse = math.sqrt(x)\n",
    "rmse"
   ]
  },
  {
   "cell_type": "code",
   "execution_count": null,
   "metadata": {},
   "outputs": [],
   "source": []
  },
  {
   "cell_type": "code",
   "execution_count": null,
   "metadata": {},
   "outputs": [],
   "source": []
  }
 ],
 "metadata": {
  "kernelspec": {
   "display_name": "Python 3",
   "language": "python",
   "name": "python3"
  },
  "language_info": {
   "codemirror_mode": {
    "name": "ipython",
    "version": 3
   },
   "file_extension": ".py",
   "mimetype": "text/x-python",
   "name": "python",
   "nbconvert_exporter": "python",
   "pygments_lexer": "ipython3",
   "version": "3.8.3"
  }
 },
 "nbformat": 4,
 "nbformat_minor": 4
}
